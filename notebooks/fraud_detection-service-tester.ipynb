{
 "cells": [
  {
   "cell_type": "code",
   "execution_count": 45,
   "metadata": {},
   "outputs": [],
   "source": [
    "import requests\n",
    "import polars as pl\n",
    "import numpy as np\n",
    "import json"
   ]
  },
  {
   "cell_type": "code",
   "execution_count": null,
   "metadata": {},
   "outputs": [],
   "source": [
    "pl.Config(tbl_rows=10)\n",
    "\n",
    "test_data = pl.read_csv('../data/User0_credit_card_transactions.csv')\n",
    "test_data.head()"
   ]
  },
  {
   "cell_type": "code",
   "execution_count": null,
   "metadata": {},
   "outputs": [],
   "source": [
    "def preprocess_dataset(data_df):\n",
    "    \"\"\" Preprocess dataset for service. \"\"\"\n",
    "    new_data_df = data_df.with_columns(\n",
    "        Hour = pl.col(\"Time\").map_elements(\n",
    "            lambda x: x[:2]).cast(pl.Int64, strict=True),\n",
    "        Minute = pl.col(\"Time\").map_elements(\n",
    "            lambda x: x[3:]).cast(pl.Int64, strict=True),\n",
    "    ).drop(\"Time\").with_columns(\n",
    "        pl.col(\"Amount\").map_elements(\n",
    "            lambda x: x.replace(\"$\", \"\")).cast(pl.Float64, strict=True)\n",
    "    ).with_columns(\n",
    "        pl.col(\"Merchant State\").fill_null(\"ONLINE\")\n",
    "    ).with_columns(\n",
    "        pl.col(\"Zip\").cast(pl.String, strict=True).fill_null(\"ONLINE\")\n",
    "    ).with_columns(\n",
    "        pl.col(\"Errors?\").fill_null(value=\"No\")\n",
    "    ).with_columns(\n",
    "        pl.col(\"Is Fraud?\").map_elements(\n",
    "            lambda x: 0 if x == \"No\" else 1\n",
    "        )\n",
    "    )\n",
    "    return new_data_df\n",
    "test_data = preprocess_dataset(test_data)\n",
    "test_data"
   ]
  },
  {
   "cell_type": "code",
   "execution_count": null,
   "metadata": {},
   "outputs": [],
   "source": [
    "json_data = test_data.to_pandas().to_json(orient='records')\n"
   ]
  },
  {
   "cell_type": "code",
   "execution_count": 51,
   "metadata": {},
   "outputs": [
    {
     "data": {
      "text/plain": [
       "<Response [200]>"
      ]
     },
     "execution_count": 51,
     "metadata": {},
     "output_type": "execute_result"
    }
   ],
   "source": [
    "response = requests.post(\n",
    "    'http://0.0.0.0:3000/predict',\n",
    "    data=json_data\n",
    ")\n",
    "\n",
    "response"
   ]
  },
  {
   "cell_type": "code",
   "execution_count": 50,
   "metadata": {},
   "outputs": [
    {
     "data": {
      "text/html": [
       "<div><style>\n",
       ".dataframe > thead > tr,\n",
       ".dataframe > tbody > tr {\n",
       "  text-align: right;\n",
       "  white-space: pre-wrap;\n",
       "}\n",
       "</style>\n",
       "<small>shape: (19_963, 17)</small><table border=\"1\" class=\"dataframe\"><thead><tr><th>User</th><th>Card</th><th>Year</th><th>Month</th><th>Day</th><th>Amount</th><th>Use Chip</th><th>Merchant Name</th><th>Merchant City</th><th>Merchant State</th><th>Zip</th><th>MCC</th><th>Errors?</th><th>Is Fraud?</th><th>Hour</th><th>Minute</th><th>Predicted_Is_Fraud?</th></tr><tr><td>i64</td><td>i64</td><td>i64</td><td>i64</td><td>i64</td><td>f64</td><td>str</td><td>i64</td><td>str</td><td>str</td><td>str</td><td>i64</td><td>str</td><td>i64</td><td>i64</td><td>i64</td><td>i64</td></tr></thead><tbody><tr><td>0</td><td>0</td><td>2002</td><td>9</td><td>1</td><td>134.09</td><td>&quot;Swipe Transact…</td><td>3527213246127876953</td><td>&quot;La Verne&quot;</td><td>&quot;CA&quot;</td><td>&quot;91750.0&quot;</td><td>5300</td><td>&quot;No&quot;</td><td>0</td><td>6</td><td>21</td><td>0</td></tr><tr><td>0</td><td>0</td><td>2002</td><td>9</td><td>1</td><td>38.48</td><td>&quot;Swipe Transact…</td><td>-727612092139916043</td><td>&quot;Monterey Park&quot;</td><td>&quot;CA&quot;</td><td>&quot;91754.0&quot;</td><td>5411</td><td>&quot;No&quot;</td><td>0</td><td>6</td><td>42</td><td>0</td></tr><tr><td>0</td><td>0</td><td>2002</td><td>9</td><td>2</td><td>120.34</td><td>&quot;Swipe Transact…</td><td>-727612092139916043</td><td>&quot;Monterey Park&quot;</td><td>&quot;CA&quot;</td><td>&quot;91754.0&quot;</td><td>5411</td><td>&quot;No&quot;</td><td>0</td><td>6</td><td>22</td><td>0</td></tr><tr><td>0</td><td>0</td><td>2002</td><td>9</td><td>2</td><td>128.95</td><td>&quot;Swipe Transact…</td><td>3414527459579106770</td><td>&quot;Monterey Park&quot;</td><td>&quot;CA&quot;</td><td>&quot;91754.0&quot;</td><td>5651</td><td>&quot;No&quot;</td><td>0</td><td>17</td><td>45</td><td>0</td></tr><tr><td>0</td><td>0</td><td>2002</td><td>9</td><td>3</td><td>104.71</td><td>&quot;Swipe Transact…</td><td>5817218446178736267</td><td>&quot;La Verne&quot;</td><td>&quot;CA&quot;</td><td>&quot;91750.0&quot;</td><td>5912</td><td>&quot;No&quot;</td><td>0</td><td>6</td><td>23</td><td>0</td></tr><tr><td>&hellip;</td><td>&hellip;</td><td>&hellip;</td><td>&hellip;</td><td>&hellip;</td><td>&hellip;</td><td>&hellip;</td><td>&hellip;</td><td>&hellip;</td><td>&hellip;</td><td>&hellip;</td><td>&hellip;</td><td>&hellip;</td><td>&hellip;</td><td>&hellip;</td><td>&hellip;</td><td>&hellip;</td></tr><tr><td>0</td><td>4</td><td>2009</td><td>2</td><td>12</td><td>9.71</td><td>&quot;Swipe Transact…</td><td>4060646732831064559</td><td>&quot;La Verne&quot;</td><td>&quot;CA&quot;</td><td>&quot;91750.0&quot;</td><td>5411</td><td>&quot;Technical Glit…</td><td>0</td><td>13</td><td>3</td><td>0</td></tr><tr><td>0</td><td>4</td><td>2009</td><td>2</td><td>22</td><td>27.94</td><td>&quot;Swipe Transact…</td><td>-8129520121141002186</td><td>&quot;La Verne&quot;</td><td>&quot;CA&quot;</td><td>&quot;91750.0&quot;</td><td>5211</td><td>&quot;No&quot;</td><td>0</td><td>11</td><td>58</td><td>0</td></tr><tr><td>0</td><td>4</td><td>2009</td><td>2</td><td>24</td><td>13.97</td><td>&quot;Swipe Transact…</td><td>5474320255037684877</td><td>&quot;Hawthorne&quot;</td><td>&quot;CA&quot;</td><td>&quot;90250.0&quot;</td><td>5912</td><td>&quot;No&quot;</td><td>0</td><td>16</td><td>53</td><td>0</td></tr><tr><td>0</td><td>4</td><td>2009</td><td>3</td><td>29</td><td>14.27</td><td>&quot;Swipe Transact…</td><td>4060646732831064559</td><td>&quot;La Verne&quot;</td><td>&quot;CA&quot;</td><td>&quot;91750.0&quot;</td><td>5411</td><td>&quot;No&quot;</td><td>0</td><td>16</td><td>30</td><td>0</td></tr><tr><td>0</td><td>4</td><td>2009</td><td>3</td><td>31</td><td>13.55</td><td>&quot;Swipe Transact…</td><td>-4927381308738947637</td><td>&quot;Beijing&quot;</td><td>&quot;China&quot;</td><td>&quot;ONLINE&quot;</td><td>5812</td><td>&quot;No&quot;</td><td>0</td><td>13</td><td>17</td><td>0</td></tr></tbody></table></div>"
      ],
      "text/plain": [
       "shape: (19_963, 17)\n",
       "┌──────┬──────┬──────┬───────┬───┬───────────┬──────┬────────┬─────────────────────┐\n",
       "│ User ┆ Card ┆ Year ┆ Month ┆ … ┆ Is Fraud? ┆ Hour ┆ Minute ┆ Predicted_Is_Fraud? │\n",
       "│ ---  ┆ ---  ┆ ---  ┆ ---   ┆   ┆ ---       ┆ ---  ┆ ---    ┆ ---                 │\n",
       "│ i64  ┆ i64  ┆ i64  ┆ i64   ┆   ┆ i64       ┆ i64  ┆ i64    ┆ i64                 │\n",
       "╞══════╪══════╪══════╪═══════╪═══╪═══════════╪══════╪════════╪═════════════════════╡\n",
       "│ 0    ┆ 0    ┆ 2002 ┆ 9     ┆ … ┆ 0         ┆ 6    ┆ 21     ┆ 0                   │\n",
       "│ 0    ┆ 0    ┆ 2002 ┆ 9     ┆ … ┆ 0         ┆ 6    ┆ 42     ┆ 0                   │\n",
       "│ 0    ┆ 0    ┆ 2002 ┆ 9     ┆ … ┆ 0         ┆ 6    ┆ 22     ┆ 0                   │\n",
       "│ 0    ┆ 0    ┆ 2002 ┆ 9     ┆ … ┆ 0         ┆ 17   ┆ 45     ┆ 0                   │\n",
       "│ 0    ┆ 0    ┆ 2002 ┆ 9     ┆ … ┆ 0         ┆ 6    ┆ 23     ┆ 0                   │\n",
       "│ …    ┆ …    ┆ …    ┆ …     ┆ … ┆ …         ┆ …    ┆ …      ┆ …                   │\n",
       "│ 0    ┆ 4    ┆ 2009 ┆ 2     ┆ … ┆ 0         ┆ 13   ┆ 3      ┆ 0                   │\n",
       "│ 0    ┆ 4    ┆ 2009 ┆ 2     ┆ … ┆ 0         ┆ 11   ┆ 58     ┆ 0                   │\n",
       "│ 0    ┆ 4    ┆ 2009 ┆ 2     ┆ … ┆ 0         ┆ 16   ┆ 53     ┆ 0                   │\n",
       "│ 0    ┆ 4    ┆ 2009 ┆ 3     ┆ … ┆ 0         ┆ 16   ┆ 30     ┆ 0                   │\n",
       "│ 0    ┆ 4    ┆ 2009 ┆ 3     ┆ … ┆ 0         ┆ 13   ┆ 17     ┆ 0                   │\n",
       "└──────┴──────┴──────┴───────┴───┴───────────┴──────┴────────┴─────────────────────┘"
      ]
     },
     "execution_count": 50,
     "metadata": {},
     "output_type": "execute_result"
    }
   ],
   "source": [
    "predictions = response.json()\n",
    "result = pl.concat(\n",
    "    [test_data, pl.DataFrame({\"Predicted_Is_Fraud?\":predictions})],\n",
    "    how=\"horizontal\")\n",
    "result"
   ]
  }
 ],
 "metadata": {
  "kernelspec": {
   "display_name": ".venv",
   "language": "python",
   "name": "python3"
  },
  "language_info": {
   "codemirror_mode": {
    "name": "ipython",
    "version": 3
   },
   "file_extension": ".py",
   "mimetype": "text/x-python",
   "name": "python",
   "nbconvert_exporter": "python",
   "pygments_lexer": "ipython3",
   "version": "3.11.6"
  }
 },
 "nbformat": 4,
 "nbformat_minor": 2
}
